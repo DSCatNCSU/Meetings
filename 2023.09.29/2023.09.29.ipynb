{
 "cells": [
  {
   "cell_type": "markdown",
   "id": "8750f015-27fe-4a16-8db8-737605d85c7e",
   "metadata": {},
   "source": [
    "# 2023.09.29 - Data Science for Music: Webscraping Lyrics with Python (BeautifulSoup)\n",
    "## Data Science Club at NCSU\n",
    "### Rebecca Seifert"
   ]
  },
  {
   "cell_type": "markdown",
   "id": "7e1997c5-259c-4b2d-888a-580f2d2b4dae",
   "metadata": {
    "jp-MarkdownHeadingCollapsed": true,
    "tags": []
   },
   "source": [
    "#### Best Practices for Successful Webscraping:\n",
    "- Use an API when available.\n",
    "- Check url/robots.txt file for crawl delays, disallowed pages, and other restrictions.\n",
    "- Build in delays and limit requests to respect site owner.\n",
    "- Take care with sensitive data (only scrape data you need and ought to be accessible to you, store appropriately, etc).\n",
    "- Work iteratively. Get one page and save it. Write, test, and rewrite your script (data processing) until it works. Then, make one request for all the pages, save them, and use your script."
   ]
  },
  {
   "cell_type": "markdown",
   "id": "d7aee882-b302-4cef-a425-1470f6d7fd08",
   "metadata": {},
   "source": [
    "#### Links to Documentation / Tutorials\n",
    "- Beautiful Soup 4: https://pypi.org/project/beautifulsoup4/\n",
    "- CSV: https://realpython.com/python-csv/\n",
    "- Pandas: https://pandas.pydata.org/docs/\n",
    "- Requests: https://requests.readthedocs.io/en/latest/\n",
    "- Working directory: https://note.nkmk.me/en/python-os-getcwd-chdir/"
   ]
  },
  {
   "cell_type": "markdown",
   "id": "e364711d-cdab-4d46-af53-35217110672e",
   "metadata": {},
   "source": [
    "#### Sites Used\n",
    "- www.last.fm\n",
    "- www.azlyrics.com\n",
    "\n",
    "These methods can be applied to other sites with appropriate tweaks. These particular sites were chosen for purposes related to project-specific goals/requirements, so you may very well find more direct sources of similar information."
   ]
  },
  {
   "cell_type": "markdown",
   "id": "daa88d54-ced5-4be5-b2f6-99688b7f7a6e",
   "metadata": {
    "tags": []
   },
   "source": [
    "### Set Up"
   ]
  },
  {
   "cell_type": "code",
   "execution_count": 11,
   "id": "6827fcde-dce6-4d5a-9dcd-5095bb4c11e2",
   "metadata": {},
   "outputs": [],
   "source": [
    "### import needed packages\n",
    "# from <library> import <package> (as <reference name>)\n",
    "### ***must install libraries/packages before importing/using***\n",
    "\n",
    "from bs4 import BeautifulSoup, NavigableString, Tag # for navigating HTML\n",
    "import csv # for reading input/writing output\n",
    "import os # for setting working directory\n",
    "import pandas as pd # for wrangling data\n",
    "import requests # for getting HTML"
   ]
  },
  {
   "cell_type": "code",
   "execution_count": 12,
   "id": "db4211b7-3e0f-469d-9085-35d9764d354d",
   "metadata": {},
   "outputs": [
    {
     "data": {
      "text/plain": [
       "'/home/jupyter-rjseifer@ncsu.edu/2023.09.29'"
      ]
     },
     "execution_count": 12,
     "metadata": {},
     "output_type": "execute_result"
    }
   ],
   "source": [
    "### set up working directory\n",
    "# replace string with your own folder location\n",
    "\n",
    "os.chdir(\"/home/jupyter-rjseifer@ncsu.edu/2023.09.29\")\n",
    "os.getcwd()"
   ]
  },
  {
   "cell_type": "markdown",
   "id": "fbad0899-8213-4942-9224-84dbaaf99fdf",
   "metadata": {
    "jp-MarkdownHeadingCollapsed": true,
    "tags": []
   },
   "source": [
    "### Generating Addresses"
   ]
  },
  {
   "cell_type": "code",
   "execution_count": 2,
   "id": "a085da4f-56b2-4d30-ab53-988b395512c0",
   "metadata": {},
   "outputs": [
    {
     "name": "stdout",
     "output_type": "stream",
     "text": [
      "https://www.azlyrics.com/lyrics/taylorswift/lovestory.html \n",
      " rawHTML/taylorswift/lovestory.html \n",
      " lyrics_taylorswift_lovestory.txt\n",
      "https://www.azlyrics.com/lyrics/drake/bestieverhad.html \n",
      " rawHTML/drake/bestieverhad.html \n",
      " lyrics_drake_bestieverhad.txt\n",
      "https://www.azlyrics.com/lyrics/bangtanboys/dynamite.html \n",
      " rawHTML/bangtanboys/dynamite.html \n",
      " lyrics_bangtanboys_dynamite.txt\n"
     ]
    }
   ],
   "source": [
    "### generate URLs and file names\n",
    "### *you can totally just use the URLs you want up front, I was originally building this with the end goal of automation for a daily report in mind\n",
    "# url = \"<link>\"\n",
    "\n",
    "### Mine came from the Top 10 (All Time) Songs from Top 3 Artists from last.fm in October of 2022\n",
    "###  https://www.last.fm/charts\n",
    "###   https://www.last.fm/music/Taylor+Swift\n",
    "###   https://www.last.fm/music/Drake\n",
    "###   https://www.last.fm/music/BTS\n",
    "\n",
    "songs = {'taylorswift': ['lovestory',\n",
    "                         'blankspace',\n",
    "                         'shakeitoff',\n",
    "                         'youbelongwithme',\n",
    "                         'weareneverevergettingbacktogether',\n",
    "                         'style',\n",
    "                         'wildestdreams',\n",
    "                         'cardigan',\n",
    "                         'lookwhatyoumademedo',\n",
    "                         'badblood'],\n",
    "         'drake': ['bestieverhad',\n",
    "                   'forever',\n",
    "                   'onedance',\n",
    "                   'hotlinebling',\n",
    "                   'over',\n",
    "                   'holdonweregoinghome',\n",
    "                   'passionfruit',\n",
    "                   'godsplan',\n",
    "                   'takecare',\n",
    "                   'niceforwhat'],\n",
    "         'bangtanboys': ['dynamite',\n",
    "                         'boywithluv',\n",
    "                         'butter',\n",
    "                         'fakelove',\n",
    "                         'dna',\n",
    "                         'bloodsweattears',\n",
    "                         'idol',\n",
    "                         'blackswan',\n",
    "                         'euphoriathemeofloveyourselfwonder',\n",
    "                         'on']}\n",
    "\n",
    "\n",
    "### Generating corresponding strings following AZLyrics (https://www.azlyrics.com/)\n",
    "### format and desired file names\n",
    "###  URLs: https://www.azlyrics.com/lyrics/<artistname>/<songtitle>.html\n",
    "###  Raw files: rawHTML/<artistname>/<songtitle>.html\n",
    "###  Final files: lyrics/<artistname>/<songtitle>.txt\n",
    "urls = []\n",
    "rawFiles = []\n",
    "saveFiles = []\n",
    "for key in songs:\n",
    "    for title in songs[key]:\n",
    "        urls.append('https://www.azlyrics.com/lyrics/' + key + '/' + title + '.html')\n",
    "        rawFiles.append(\"rawHTML/\" + key + \"/\" + title + \".html\")\n",
    "        saveFiles.append(\"lyrics_\" + key + \"_\" + title + \".txt\")\n",
    "\n",
    "### Checking urls, raw file names, and final file names\n",
    "print(urls[0], '\\n', rawFiles[0], '\\n', saveFiles[0])\n",
    "print(urls[10], '\\n', rawFiles[10], '\\n', saveFiles[10])\n",
    "print(urls[20], '\\n', rawFiles[20], '\\n', saveFiles[20])"
   ]
  },
  {
   "cell_type": "markdown",
   "id": "6146ddd3-c1b2-4bc9-8b28-18527dd38118",
   "metadata": {
    "jp-MarkdownHeadingCollapsed": true,
    "tags": []
   },
   "source": [
    "### Storing All Pages as HTML Files"
   ]
  },
  {
   "cell_type": "code",
   "execution_count": 15,
   "id": "c9ea275a-5607-467b-beac-e0826568020c",
   "metadata": {},
   "outputs": [],
   "source": [
    "### Testing file creation for one page\n",
    "\n",
    "html = requests.get(urls[0])\n",
    "file = open(rawFiles[0], 'wb')\n",
    "file.write(html.content)\n",
    "file.close()\n",
    "\n",
    "### successful if no errors thrown\n",
    "### if you're running into issues with permissions, you may want to manually create \"rawHTML/<artist>\" folders for each artist you're using"
   ]
  },
  {
   "cell_type": "code",
   "execution_count": 16,
   "id": "26e4c274-8eb1-4c52-9ee7-2b012b45f4d5",
   "metadata": {},
   "outputs": [],
   "source": [
    "### Savings all pages to files\n",
    "\n",
    "for i in range(len(urls)):\n",
    "    html = requests.get(urls[i])\n",
    "    file = open(rawFiles[i], 'wb')\n",
    "    file.write(html.content)\n",
    "    file.close()"
   ]
  },
  {
   "cell_type": "markdown",
   "id": "064e7384-0831-45b2-9016-d29160194768",
   "metadata": {
    "jp-MarkdownHeadingCollapsed": true,
    "tags": []
   },
   "source": [
    "### Navigating Files"
   ]
  },
  {
   "cell_type": "code",
   "execution_count": 17,
   "id": "28f793bc-f75d-4dfb-9070-e447bd1d4781",
   "metadata": {},
   "outputs": [
    {
     "ename": "AttributeError",
     "evalue": "'NoneType' object has no attribute 'next_sibling'",
     "output_type": "error",
     "traceback": [
      "\u001b[0;31m---------------------------------------------------------------------------\u001b[0m",
      "\u001b[0;31mAttributeError\u001b[0m                            Traceback (most recent call last)",
      "Cell \u001b[0;32mIn[17], line 7\u001b[0m\n\u001b[1;32m      5\u001b[0m file\u001b[38;5;241m.\u001b[39mclose()\n\u001b[1;32m      6\u001b[0m \u001b[38;5;66;03m# print(soup)\u001b[39;00m\n\u001b[0;32m----> 7\u001b[0m lyrics \u001b[38;5;241m=\u001b[39m \u001b[43msoup\u001b[49m\u001b[38;5;241;43m.\u001b[39;49m\u001b[43mbody\u001b[49m\u001b[38;5;241;43m.\u001b[39;49m\u001b[43mfind\u001b[49m\u001b[43m(\u001b[49m\u001b[38;5;124;43m'\u001b[39;49m\u001b[38;5;124;43mdiv\u001b[39;49m\u001b[38;5;124;43m'\u001b[39;49m\u001b[43m,\u001b[49m\u001b[43m \u001b[49m\u001b[43m{\u001b[49m\u001b[38;5;124;43m\"\u001b[39;49m\u001b[38;5;124;43mclass\u001b[39;49m\u001b[38;5;124;43m\"\u001b[39;49m\u001b[43m:\u001b[49m\u001b[43m \u001b[49m\u001b[38;5;124;43m\"\u001b[39;49m\u001b[38;5;124;43mringtone\u001b[39;49m\u001b[38;5;124;43m\"\u001b[39;49m\u001b[43m}\u001b[49m\u001b[43m)\u001b[49m\u001b[38;5;241;43m.\u001b[39;49m\u001b[43mnext_sibling\u001b[49m\u001b[38;5;241m.\u001b[39mnext_sibling\u001b[38;5;241m.\u001b[39mnext_sibling\u001b[38;5;241m.\u001b[39mnext_sibling\u001b[38;5;241m.\u001b[39mnext_sibling\u001b[38;5;241m.\u001b[39mnext_sibling\u001b[38;5;241m.\u001b[39mnext_sibling\u001b[38;5;241m.\u001b[39mget_text()\u001b[38;5;241m.\u001b[39mstrip()\n\u001b[1;32m      8\u001b[0m \u001b[38;5;28mprint\u001b[39m(lyrics[\u001b[38;5;241m0\u001b[39m:\u001b[38;5;241m200\u001b[39m])\n",
      "\u001b[0;31mAttributeError\u001b[0m: 'NoneType' object has no attribute 'next_sibling'"
     ]
    }
   ],
   "source": [
    "### Testing navigation on one page file\n",
    "\n",
    "file = open(rawFiles[0], 'rb')\n",
    "soup = BeautifulSoup(file.read(), \"html.parser\")\n",
    "file.close()\n",
    "# print(soup)\n",
    "lyrics = soup.body.find('div', {\"class\": \"ringtone\"}).next_sibling.next_sibling.next_sibling.next_sibling.next_sibling.next_sibling.next_sibling.get_text().strip()\n",
    "print(lyrics[0:200])"
   ]
  },
  {
   "cell_type": "code",
   "execution_count": 18,
   "id": "a6899cdd-e413-46e3-b22c-c1ec6744eb76",
   "metadata": {},
   "outputs": [
    {
     "ename": "AttributeError",
     "evalue": "'NoneType' object has no attribute 'next_sibling'",
     "output_type": "error",
     "traceback": [
      "\u001b[0;31m---------------------------------------------------------------------------\u001b[0m",
      "\u001b[0;31mAttributeError\u001b[0m                            Traceback (most recent call last)",
      "Cell \u001b[0;32mIn[18], line 3\u001b[0m\n\u001b[1;32m      1\u001b[0m \u001b[38;5;66;03m### Testing file output for one page\u001b[39;00m\n\u001b[0;32m----> 3\u001b[0m lyrics \u001b[38;5;241m=\u001b[39m \u001b[43msoup\u001b[49m\u001b[38;5;241;43m.\u001b[39;49m\u001b[43mbody\u001b[49m\u001b[38;5;241;43m.\u001b[39;49m\u001b[43mfind\u001b[49m\u001b[43m(\u001b[49m\u001b[38;5;124;43m'\u001b[39;49m\u001b[38;5;124;43mdiv\u001b[39;49m\u001b[38;5;124;43m'\u001b[39;49m\u001b[43m,\u001b[49m\u001b[43m \u001b[49m\u001b[43m{\u001b[49m\u001b[38;5;124;43m\"\u001b[39;49m\u001b[38;5;124;43mclass\u001b[39;49m\u001b[38;5;124;43m\"\u001b[39;49m\u001b[43m:\u001b[49m\u001b[43m \u001b[49m\u001b[38;5;124;43m\"\u001b[39;49m\u001b[38;5;124;43mringtone\u001b[39;49m\u001b[38;5;124;43m\"\u001b[39;49m\u001b[43m}\u001b[49m\u001b[43m)\u001b[49m\u001b[38;5;241;43m.\u001b[39;49m\u001b[43mnext_sibling\u001b[49m\u001b[38;5;241m.\u001b[39mnext_sibling\u001b[38;5;241m.\u001b[39mnext_sibling\u001b[38;5;241m.\u001b[39mnext_sibling\u001b[38;5;241m.\u001b[39mnext_sibling\u001b[38;5;241m.\u001b[39mnext_sibling\u001b[38;5;241m.\u001b[39mnext_sibling\u001b[38;5;241m.\u001b[39mget_text()\u001b[38;5;241m.\u001b[39mstrip()\n\u001b[1;32m      4\u001b[0m file \u001b[38;5;241m=\u001b[39m \u001b[38;5;28mopen\u001b[39m(saveFiles[\u001b[38;5;241m0\u001b[39m], \u001b[38;5;124m'\u001b[39m\u001b[38;5;124mw\u001b[39m\u001b[38;5;124m'\u001b[39m)\n\u001b[1;32m      5\u001b[0m file\u001b[38;5;241m.\u001b[39mwrite(lyrics)\n",
      "\u001b[0;31mAttributeError\u001b[0m: 'NoneType' object has no attribute 'next_sibling'"
     ]
    }
   ],
   "source": [
    "### Testing file output for one page\n",
    "\n",
    "lyrics = soup.body.find('div', {\"class\": \"ringtone\"}).next_sibling.next_sibling.next_sibling.next_sibling.next_sibling.next_sibling.next_sibling.get_text().strip()\n",
    "file = open(saveFiles[0], 'w')\n",
    "file.write(lyrics)\n",
    "file.close()"
   ]
  },
  {
   "cell_type": "code",
   "execution_count": 19,
   "id": "61c58866-d8bf-4d4a-b2a0-dcd1c8f85d34",
   "metadata": {},
   "outputs": [
    {
     "ename": "AttributeError",
     "evalue": "'NoneType' object has no attribute 'next_sibling'",
     "output_type": "error",
     "traceback": [
      "\u001b[0;31m---------------------------------------------------------------------------\u001b[0m",
      "\u001b[0;31mAttributeError\u001b[0m                            Traceback (most recent call last)",
      "Cell \u001b[0;32mIn[19], line 9\u001b[0m\n\u001b[1;32m      7\u001b[0m file\u001b[38;5;241m.\u001b[39mclose()\n\u001b[1;32m      8\u001b[0m \u001b[38;5;66;03m# Exporting (conditional logic to handle different page structures)\u001b[39;00m\n\u001b[0;32m----> 9\u001b[0m \u001b[38;5;28;01mif\u001b[39;00m (\u001b[43msoup\u001b[49m\u001b[38;5;241;43m.\u001b[39;49m\u001b[43mbody\u001b[49m\u001b[38;5;241;43m.\u001b[39;49m\u001b[43mfind\u001b[49m\u001b[43m(\u001b[49m\u001b[38;5;124;43m'\u001b[39;49m\u001b[38;5;124;43mdiv\u001b[39;49m\u001b[38;5;124;43m'\u001b[39;49m\u001b[43m,\u001b[49m\u001b[43m \u001b[49m\u001b[43m{\u001b[49m\u001b[38;5;124;43m\"\u001b[39;49m\u001b[38;5;124;43mclass\u001b[39;49m\u001b[38;5;124;43m\"\u001b[39;49m\u001b[43m:\u001b[49m\u001b[43m \u001b[49m\u001b[38;5;124;43m\"\u001b[39;49m\u001b[38;5;124;43mringtone\u001b[39;49m\u001b[38;5;124;43m\"\u001b[39;49m\u001b[43m}\u001b[49m\u001b[43m)\u001b[49m\u001b[38;5;241;43m.\u001b[39;49m\u001b[43mnext_sibling\u001b[49m\u001b[38;5;241m.\u001b[39mnext_sibling\u001b[38;5;241m.\u001b[39mnext_sibling\u001b[38;5;241m.\u001b[39mnext_sibling\u001b[38;5;241m.\u001b[39mnext_sibling\u001b[38;5;241m.\u001b[39mnext_sibling\u001b[38;5;241m.\u001b[39mnext_sibling\u001b[38;5;241m.\u001b[39mget_text()\u001b[38;5;241m.\u001b[39mstrip() \u001b[38;5;241m==\u001b[39m \u001b[38;5;124m\"\u001b[39m\u001b[38;5;124m\"\u001b[39m):\n\u001b[1;32m     10\u001b[0m     lyrics \u001b[38;5;241m=\u001b[39m soup\u001b[38;5;241m.\u001b[39mbody\u001b[38;5;241m.\u001b[39mfind(\u001b[38;5;124m'\u001b[39m\u001b[38;5;124mspan\u001b[39m\u001b[38;5;124m'\u001b[39m, {\u001b[38;5;124m\"\u001b[39m\u001b[38;5;124mclass\u001b[39m\u001b[38;5;124m\"\u001b[39m: \u001b[38;5;124m\"\u001b[39m\u001b[38;5;124mfeat\u001b[39m\u001b[38;5;124m\"\u001b[39m})\u001b[38;5;241m.\u001b[39mnext_sibling\u001b[38;5;241m.\u001b[39mnext_sibling\u001b[38;5;241m.\u001b[39mnext_sibling\u001b[38;5;241m.\u001b[39mnext_sibling\u001b[38;5;241m.\u001b[39mnext_sibling\u001b[38;5;241m.\u001b[39mget_text()\u001b[38;5;241m.\u001b[39mstrip()\n\u001b[1;32m     11\u001b[0m \u001b[38;5;28;01melse\u001b[39;00m:\n",
      "\u001b[0;31mAttributeError\u001b[0m: 'NoneType' object has no attribute 'next_sibling'"
     ]
    }
   ],
   "source": [
    "### Reproducing for all songs\n",
    "\n",
    "for i in range(len(rawFiles)):\n",
    "    # Navigating\n",
    "    file = open(rawFiles[i], 'rb')\n",
    "    soup = BeautifulSoup(file.read(), \"html.parser\")\n",
    "    file.close()\n",
    "    # Exporting (conditional logic to handle different page structures)\n",
    "    if (soup.body.find('div', {\"class\": \"ringtone\"}).next_sibling.next_sibling.next_sibling.next_sibling.next_sibling.next_sibling.next_sibling.get_text().strip() == \"\"):\n",
    "        lyrics = soup.body.find('span', {\"class\": \"feat\"}).next_sibling.next_sibling.next_sibling.next_sibling.next_sibling.get_text().strip()\n",
    "    else:\n",
    "        lyrics = soup.body.find('div', {\"class\": \"ringtone\"}).next_sibling.next_sibling.next_sibling.next_sibling.next_sibling.next_sibling.next_sibling.get_text().strip()\n",
    "    file = open(saveFiles[i], 'w')\n",
    "    file.write(lyrics)\n",
    "    file.close()"
   ]
  },
  {
   "cell_type": "markdown",
   "id": "ef226eec-58d0-485b-9403-4034afb9535c",
   "metadata": {
    "jp-MarkdownHeadingCollapsed": true,
    "tags": []
   },
   "source": [
    "### Producing CSV Files from Output"
   ]
  },
  {
   "cell_type": "code",
   "execution_count": 21,
   "id": "5fb8cb0f-ff9b-419c-a4c9-f6a54e9fcfdf",
   "metadata": {},
   "outputs": [
    {
     "ename": "FileNotFoundError",
     "evalue": "[Errno 2] No such file or directory: 'lyrics_taylorswift_lovestory.txt'",
     "output_type": "error",
     "traceback": [
      "\u001b[0;31m---------------------------------------------------------------------------\u001b[0m",
      "\u001b[0;31mFileNotFoundError\u001b[0m                         Traceback (most recent call last)",
      "Cell \u001b[0;32mIn[21], line 2\u001b[0m\n\u001b[1;32m      1\u001b[0m \u001b[38;5;66;03m### Testing one file read and count\u001b[39;00m\n\u001b[0;32m----> 2\u001b[0m file \u001b[38;5;241m=\u001b[39m \u001b[38;5;28;43mopen\u001b[39;49m\u001b[43m(\u001b[49m\u001b[43msaveFiles\u001b[49m\u001b[43m[\u001b[49m\u001b[38;5;241;43m0\u001b[39;49m\u001b[43m]\u001b[49m\u001b[43m,\u001b[49m\u001b[43m \u001b[49m\u001b[38;5;124;43m'\u001b[39;49m\u001b[38;5;124;43mrb\u001b[39;49m\u001b[38;5;124;43m'\u001b[39;49m\u001b[43m)\u001b[49m\n\u001b[1;32m      3\u001b[0m lyrics \u001b[38;5;241m=\u001b[39m file\u001b[38;5;241m.\u001b[39mread()\u001b[38;5;241m.\u001b[39mstrip()\n\u001b[1;32m      4\u001b[0m file\u001b[38;5;241m.\u001b[39mclose()\n",
      "File \u001b[0;32m/opt/tljh/user/envs/DSC201/lib/python3.11/site-packages/IPython/core/interactiveshell.py:282\u001b[0m, in \u001b[0;36m_modified_open\u001b[0;34m(file, *args, **kwargs)\u001b[0m\n\u001b[1;32m    275\u001b[0m \u001b[38;5;28;01mif\u001b[39;00m file \u001b[38;5;129;01min\u001b[39;00m {\u001b[38;5;241m0\u001b[39m, \u001b[38;5;241m1\u001b[39m, \u001b[38;5;241m2\u001b[39m}:\n\u001b[1;32m    276\u001b[0m     \u001b[38;5;28;01mraise\u001b[39;00m \u001b[38;5;167;01mValueError\u001b[39;00m(\n\u001b[1;32m    277\u001b[0m         \u001b[38;5;124mf\u001b[39m\u001b[38;5;124m\"\u001b[39m\u001b[38;5;124mIPython won\u001b[39m\u001b[38;5;124m'\u001b[39m\u001b[38;5;124mt let you open fd=\u001b[39m\u001b[38;5;132;01m{\u001b[39;00mfile\u001b[38;5;132;01m}\u001b[39;00m\u001b[38;5;124m by default \u001b[39m\u001b[38;5;124m\"\u001b[39m\n\u001b[1;32m    278\u001b[0m         \u001b[38;5;124m\"\u001b[39m\u001b[38;5;124mas it is likely to crash IPython. If you know what you are doing, \u001b[39m\u001b[38;5;124m\"\u001b[39m\n\u001b[1;32m    279\u001b[0m         \u001b[38;5;124m\"\u001b[39m\u001b[38;5;124myou can use builtins\u001b[39m\u001b[38;5;124m'\u001b[39m\u001b[38;5;124m open.\u001b[39m\u001b[38;5;124m\"\u001b[39m\n\u001b[1;32m    280\u001b[0m     )\n\u001b[0;32m--> 282\u001b[0m \u001b[38;5;28;01mreturn\u001b[39;00m \u001b[43mio_open\u001b[49m\u001b[43m(\u001b[49m\u001b[43mfile\u001b[49m\u001b[43m,\u001b[49m\u001b[43m \u001b[49m\u001b[38;5;241;43m*\u001b[39;49m\u001b[43margs\u001b[49m\u001b[43m,\u001b[49m\u001b[43m \u001b[49m\u001b[38;5;241;43m*\u001b[39;49m\u001b[38;5;241;43m*\u001b[39;49m\u001b[43mkwargs\u001b[49m\u001b[43m)\u001b[49m\n",
      "\u001b[0;31mFileNotFoundError\u001b[0m: [Errno 2] No such file or directory: 'lyrics_taylorswift_lovestory.txt'"
     ]
    }
   ],
   "source": [
    "### Testing one file read and count\n",
    "\n",
    "file = open(saveFiles[0], 'rb')\n",
    "lyrics = file.read().strip()\n",
    "file.close()\n",
    "words = lyrics.split()\n",
    "words = [str(word, encoding='utf-8?', errors='strict') for word in words]\n",
    "countWords = len(words)\n",
    "print(countWords)"
   ]
  },
  {
   "cell_type": "code",
   "execution_count": 24,
   "id": "e70c2a62-51c3-45d3-b17d-6bcfd09a1788",
   "metadata": {},
   "outputs": [
    {
     "ename": "FileNotFoundError",
     "evalue": "[Errno 2] No such file or directory: 'lyrics_taylorswift_lovestory.txt'",
     "output_type": "error",
     "traceback": [
      "\u001b[0;31m---------------------------------------------------------------------------\u001b[0m",
      "\u001b[0;31mFileNotFoundError\u001b[0m                         Traceback (most recent call last)",
      "Cell \u001b[0;32mIn[24], line 9\u001b[0m\n\u001b[1;32m      6\u001b[0m \u001b[38;5;28;01mfor\u001b[39;00m key \u001b[38;5;129;01min\u001b[39;00m songs:\n\u001b[1;32m      7\u001b[0m     \u001b[38;5;28;01mfor\u001b[39;00m title \u001b[38;5;129;01min\u001b[39;00m songs[key]:\n\u001b[1;32m      8\u001b[0m         \u001b[38;5;66;03m# Count lines\u001b[39;00m\n\u001b[0;32m----> 9\u001b[0m         file \u001b[38;5;241m=\u001b[39m \u001b[38;5;28;43mopen\u001b[39;49m\u001b[43m(\u001b[49m\u001b[43msaveFiles\u001b[49m\u001b[43m[\u001b[49m\u001b[43mindex\u001b[49m\u001b[43m]\u001b[49m\u001b[43m,\u001b[49m\u001b[43m \u001b[49m\u001b[38;5;124;43m'\u001b[39;49m\u001b[38;5;124;43mrb\u001b[39;49m\u001b[38;5;124;43m'\u001b[39;49m\u001b[43m)\u001b[49m\n\u001b[1;32m     10\u001b[0m         countLines \u001b[38;5;241m=\u001b[39m \u001b[38;5;28mlen\u001b[39m(file\u001b[38;5;241m.\u001b[39mreadlines())\n\u001b[1;32m     11\u001b[0m         file\u001b[38;5;241m.\u001b[39mclose()\n",
      "File \u001b[0;32m/opt/tljh/user/envs/DSC201/lib/python3.11/site-packages/IPython/core/interactiveshell.py:282\u001b[0m, in \u001b[0;36m_modified_open\u001b[0;34m(file, *args, **kwargs)\u001b[0m\n\u001b[1;32m    275\u001b[0m \u001b[38;5;28;01mif\u001b[39;00m file \u001b[38;5;129;01min\u001b[39;00m {\u001b[38;5;241m0\u001b[39m, \u001b[38;5;241m1\u001b[39m, \u001b[38;5;241m2\u001b[39m}:\n\u001b[1;32m    276\u001b[0m     \u001b[38;5;28;01mraise\u001b[39;00m \u001b[38;5;167;01mValueError\u001b[39;00m(\n\u001b[1;32m    277\u001b[0m         \u001b[38;5;124mf\u001b[39m\u001b[38;5;124m\"\u001b[39m\u001b[38;5;124mIPython won\u001b[39m\u001b[38;5;124m'\u001b[39m\u001b[38;5;124mt let you open fd=\u001b[39m\u001b[38;5;132;01m{\u001b[39;00mfile\u001b[38;5;132;01m}\u001b[39;00m\u001b[38;5;124m by default \u001b[39m\u001b[38;5;124m\"\u001b[39m\n\u001b[1;32m    278\u001b[0m         \u001b[38;5;124m\"\u001b[39m\u001b[38;5;124mas it is likely to crash IPython. If you know what you are doing, \u001b[39m\u001b[38;5;124m\"\u001b[39m\n\u001b[1;32m    279\u001b[0m         \u001b[38;5;124m\"\u001b[39m\u001b[38;5;124myou can use builtins\u001b[39m\u001b[38;5;124m'\u001b[39m\u001b[38;5;124m open.\u001b[39m\u001b[38;5;124m\"\u001b[39m\n\u001b[1;32m    280\u001b[0m     )\n\u001b[0;32m--> 282\u001b[0m \u001b[38;5;28;01mreturn\u001b[39;00m \u001b[43mio_open\u001b[49m\u001b[43m(\u001b[49m\u001b[43mfile\u001b[49m\u001b[43m,\u001b[49m\u001b[43m \u001b[49m\u001b[38;5;241;43m*\u001b[39;49m\u001b[43margs\u001b[49m\u001b[43m,\u001b[49m\u001b[43m \u001b[49m\u001b[38;5;241;43m*\u001b[39;49m\u001b[38;5;241;43m*\u001b[39;49m\u001b[43mkwargs\u001b[49m\u001b[43m)\u001b[49m\n",
      "\u001b[0;31mFileNotFoundError\u001b[0m: [Errno 2] No such file or directory: 'lyrics_taylorswift_lovestory.txt'"
     ]
    }
   ],
   "source": [
    "### Creating 2D array to store extracted information\n",
    "### Redundancy purposeful for readability/debugging (for beginners) but can be reduced\n",
    "\n",
    "data = [['song', 'artist', 'words', 'lines', 'lyrics']]\n",
    "index = 0\n",
    "for key in songs:\n",
    "    for title in songs[key]:\n",
    "        # Count lines\n",
    "        file = open(saveFiles[index], 'rb')\n",
    "        countLines = len(file.readlines())\n",
    "        file.close()\n",
    "        # Extract lyrics\n",
    "        file = open(saveFiles[index], 'rb')\n",
    "        lyrics = file.read().strip()\n",
    "        file.close()\n",
    "        # Process lyrics\n",
    "        words = lyrics.split()\n",
    "        words = [str(word, encoding='utf-8?', errors='strict') for word in words]\n",
    "        countWords = len(words)\n",
    "        # Add observation to dataset\n",
    "        if countWords != 0:\n",
    "            data.append([title, key, countWords, countLines, words])\n",
    "        else:\n",
    "            data.append([title, key, 'error', 'error', words])\n",
    "        index += 1\n",
    "        \n",
    "### Check\n",
    "print(data[0], data[1][0], data[1][1], data[1][2])"
   ]
  },
  {
   "cell_type": "code",
   "execution_count": 25,
   "id": "1e0d0f02-46c0-4842-96cd-ff7a500fac17",
   "metadata": {},
   "outputs": [],
   "source": [
    "### Writing array to CSV\n",
    "\n",
    "file = open('data_summary.csv', 'w+')\n",
    "csvWriter = csv.writer(file, delimiter=',')\n",
    "csvWriter.writerows(data)\n",
    "file.close()"
   ]
  },
  {
   "cell_type": "markdown",
   "id": "8d871405-eddb-4f07-bd59-6c448bf101d4",
   "metadata": {
    "jp-MarkdownHeadingCollapsed": true,
    "tags": []
   },
   "source": [
    "### Notes\n",
    "- 'error' values in final dataset may occur when HTML pages have different structures; these can be corrected by manually fixing navigation or building in logic to check BeautifulSoup objects. Some of the Drake pages had additional subtitles and have been adjusted accordingly.\n",
    "- AZLyrics.com has no crawl delay or specifications in robots.txt file but will flag IP address as bot activity with too many requests. Responses will still have code 200, but html returned does not contain the same information and processing will throw errors."
   ]
  }
 ],
 "metadata": {
  "kernelspec": {
   "display_name": "DSC201",
   "language": "python",
   "name": "dsc201"
  },
  "language_info": {
   "codemirror_mode": {
    "name": "ipython",
    "version": 3
   },
   "file_extension": ".py",
   "mimetype": "text/x-python",
   "name": "python",
   "nbconvert_exporter": "python",
   "pygments_lexer": "ipython3",
   "version": "3.11.0"
  }
 },
 "nbformat": 4,
 "nbformat_minor": 5
}
